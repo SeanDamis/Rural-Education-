{
  "nbformat": 4,
  "nbformat_minor": 0,
  "metadata": {
    "colab": {
      "provenance": []
    },
    "kernelspec": {
      "name": "python3",
      "display_name": "Python 3"
    },
    "language_info": {
      "name": "python"
    }
  },
  "cells": [
    {
      "cell_type": "code",
      "source": [
        "# Load the necessary libraries\n",
        "import pandas as pd\n",
        "import numpy as np\n",
        "import seaborn as sns\n",
        "import matplotlib.pyplot as plt\n",
        "from sklearn.model_selection import train_test_split\n",
        "from sklearn.ensemble import RandomForestClassifier\n",
        "from sklearn.metrics import accuracy_score, confusion_matrix, classification_report, f1_score\n",
        "from pprint import pprint\n",
        "from sklearn.svm import SVC\n",
        "from sklearn.model_selection import cross_val_score"
      ],
      "metadata": {
        "id": "Lx50tbJQRFsM"
      },
      "execution_count": 240,
      "outputs": []
    },
    {
      "cell_type": "markdown",
      "source": [
        "Step 1 - Data Processing"
      ],
      "metadata": {
        "id": "NqhaO6yBoSYq"
      }
    },
    {
      "cell_type": "code",
      "source": [
        "# Load the dataset\n",
        "# View the first five records\n",
        "data_url = 'https://raw.githubusercontent.com/HenokZegeye/Datascience-Course/main/MP2_Data.csv' # Found in github repository\n",
        "df = pd.read_csv(data_url)\n",
        "df.head()"
      ],
      "metadata": {
        "colab": {
          "base_uri": "https://localhost:8080/",
          "height": 473
        },
        "id": "3Y1xRTOSRelw",
        "outputId": "71c53de9-60fa-4aa7-ca66-7ffec6a59ce8"
      },
      "execution_count": 241,
      "outputs": [
        {
          "output_type": "execute_result",
          "data": {
            "text/plain": [
              "          ID  Week2_Quiz1  Week3_MP1  Week3_PR1  Week5_MP2  Week5_PR2  \\\n",
              "0  ML-2020-1         5.00       15.0        5.0      16.09       5.00   \n",
              "1  ML-2020-2         3.33       15.0        5.0      17.83       5.00   \n",
              "2  ML-2020-3         1.67       13.0        5.0      15.22       5.00   \n",
              "3  ML-2020-4         2.50       14.0        5.0      10.00       5.00   \n",
              "4  ML-2020-6         0.00       15.0        5.0      12.17       4.93   \n",
              "\n",
              "   Week7_MP3  Week7_PR3  Week4_Quiz2  Week6_Quiz3  ...  Week7_Stat3  \\\n",
              "0      21.88        5.0         5.00          5.0  ...            0   \n",
              "1      22.27        5.0         4.00          5.0  ...            8   \n",
              "2      27.05        2.5         5.00          5.0  ...            0   \n",
              "3      31.02        5.0         3.13          5.0  ...            4   \n",
              "4      15.91        5.0         4.67          5.0  ...            6   \n",
              "\n",
              "   Week8_Stat0  Week8_Stat1  Week8_Stat2  Week8_Stat3  Week9_Stat0  \\\n",
              "0            5            4            0            4            8   \n",
              "1            5            2            0            0           25   \n",
              "2            8            2            0            0            9   \n",
              "3           10            0            0            0            7   \n",
              "4            8            5            1            1            5   \n",
              "\n",
              "   Week9_Stat1  Week9_Stat2  Week9_Stat3  Grade  \n",
              "0            6            1            0      4  \n",
              "1            3            2            5      4  \n",
              "2            0            1            0      3  \n",
              "3            6            0            0      3  \n",
              "4            3            1            0      2  \n",
              "\n",
              "[5 rows x 48 columns]"
            ],
            "text/html": [
              "\n",
              "  <div id=\"df-c1fb397c-3708-4d02-840e-7e97e2421f8d\">\n",
              "    <div class=\"colab-df-container\">\n",
              "      <div>\n",
              "<style scoped>\n",
              "    .dataframe tbody tr th:only-of-type {\n",
              "        vertical-align: middle;\n",
              "    }\n",
              "\n",
              "    .dataframe tbody tr th {\n",
              "        vertical-align: top;\n",
              "    }\n",
              "\n",
              "    .dataframe thead th {\n",
              "        text-align: right;\n",
              "    }\n",
              "</style>\n",
              "<table border=\"1\" class=\"dataframe\">\n",
              "  <thead>\n",
              "    <tr style=\"text-align: right;\">\n",
              "      <th></th>\n",
              "      <th>ID</th>\n",
              "      <th>Week2_Quiz1</th>\n",
              "      <th>Week3_MP1</th>\n",
              "      <th>Week3_PR1</th>\n",
              "      <th>Week5_MP2</th>\n",
              "      <th>Week5_PR2</th>\n",
              "      <th>Week7_MP3</th>\n",
              "      <th>Week7_PR3</th>\n",
              "      <th>Week4_Quiz2</th>\n",
              "      <th>Week6_Quiz3</th>\n",
              "      <th>...</th>\n",
              "      <th>Week7_Stat3</th>\n",
              "      <th>Week8_Stat0</th>\n",
              "      <th>Week8_Stat1</th>\n",
              "      <th>Week8_Stat2</th>\n",
              "      <th>Week8_Stat3</th>\n",
              "      <th>Week9_Stat0</th>\n",
              "      <th>Week9_Stat1</th>\n",
              "      <th>Week9_Stat2</th>\n",
              "      <th>Week9_Stat3</th>\n",
              "      <th>Grade</th>\n",
              "    </tr>\n",
              "  </thead>\n",
              "  <tbody>\n",
              "    <tr>\n",
              "      <th>0</th>\n",
              "      <td>ML-2020-1</td>\n",
              "      <td>5.00</td>\n",
              "      <td>15.0</td>\n",
              "      <td>5.0</td>\n",
              "      <td>16.09</td>\n",
              "      <td>5.00</td>\n",
              "      <td>21.88</td>\n",
              "      <td>5.0</td>\n",
              "      <td>5.00</td>\n",
              "      <td>5.0</td>\n",
              "      <td>...</td>\n",
              "      <td>0</td>\n",
              "      <td>5</td>\n",
              "      <td>4</td>\n",
              "      <td>0</td>\n",
              "      <td>4</td>\n",
              "      <td>8</td>\n",
              "      <td>6</td>\n",
              "      <td>1</td>\n",
              "      <td>0</td>\n",
              "      <td>4</td>\n",
              "    </tr>\n",
              "    <tr>\n",
              "      <th>1</th>\n",
              "      <td>ML-2020-2</td>\n",
              "      <td>3.33</td>\n",
              "      <td>15.0</td>\n",
              "      <td>5.0</td>\n",
              "      <td>17.83</td>\n",
              "      <td>5.00</td>\n",
              "      <td>22.27</td>\n",
              "      <td>5.0</td>\n",
              "      <td>4.00</td>\n",
              "      <td>5.0</td>\n",
              "      <td>...</td>\n",
              "      <td>8</td>\n",
              "      <td>5</td>\n",
              "      <td>2</td>\n",
              "      <td>0</td>\n",
              "      <td>0</td>\n",
              "      <td>25</td>\n",
              "      <td>3</td>\n",
              "      <td>2</td>\n",
              "      <td>5</td>\n",
              "      <td>4</td>\n",
              "    </tr>\n",
              "    <tr>\n",
              "      <th>2</th>\n",
              "      <td>ML-2020-3</td>\n",
              "      <td>1.67</td>\n",
              "      <td>13.0</td>\n",
              "      <td>5.0</td>\n",
              "      <td>15.22</td>\n",
              "      <td>5.00</td>\n",
              "      <td>27.05</td>\n",
              "      <td>2.5</td>\n",
              "      <td>5.00</td>\n",
              "      <td>5.0</td>\n",
              "      <td>...</td>\n",
              "      <td>0</td>\n",
              "      <td>8</td>\n",
              "      <td>2</td>\n",
              "      <td>0</td>\n",
              "      <td>0</td>\n",
              "      <td>9</td>\n",
              "      <td>0</td>\n",
              "      <td>1</td>\n",
              "      <td>0</td>\n",
              "      <td>3</td>\n",
              "    </tr>\n",
              "    <tr>\n",
              "      <th>3</th>\n",
              "      <td>ML-2020-4</td>\n",
              "      <td>2.50</td>\n",
              "      <td>14.0</td>\n",
              "      <td>5.0</td>\n",
              "      <td>10.00</td>\n",
              "      <td>5.00</td>\n",
              "      <td>31.02</td>\n",
              "      <td>5.0</td>\n",
              "      <td>3.13</td>\n",
              "      <td>5.0</td>\n",
              "      <td>...</td>\n",
              "      <td>4</td>\n",
              "      <td>10</td>\n",
              "      <td>0</td>\n",
              "      <td>0</td>\n",
              "      <td>0</td>\n",
              "      <td>7</td>\n",
              "      <td>6</td>\n",
              "      <td>0</td>\n",
              "      <td>0</td>\n",
              "      <td>3</td>\n",
              "    </tr>\n",
              "    <tr>\n",
              "      <th>4</th>\n",
              "      <td>ML-2020-6</td>\n",
              "      <td>0.00</td>\n",
              "      <td>15.0</td>\n",
              "      <td>5.0</td>\n",
              "      <td>12.17</td>\n",
              "      <td>4.93</td>\n",
              "      <td>15.91</td>\n",
              "      <td>5.0</td>\n",
              "      <td>4.67</td>\n",
              "      <td>5.0</td>\n",
              "      <td>...</td>\n",
              "      <td>6</td>\n",
              "      <td>8</td>\n",
              "      <td>5</td>\n",
              "      <td>1</td>\n",
              "      <td>1</td>\n",
              "      <td>5</td>\n",
              "      <td>3</td>\n",
              "      <td>1</td>\n",
              "      <td>0</td>\n",
              "      <td>2</td>\n",
              "    </tr>\n",
              "  </tbody>\n",
              "</table>\n",
              "<p>5 rows × 48 columns</p>\n",
              "</div>\n",
              "      <button class=\"colab-df-convert\" onclick=\"convertToInteractive('df-c1fb397c-3708-4d02-840e-7e97e2421f8d')\"\n",
              "              title=\"Convert this dataframe to an interactive table.\"\n",
              "              style=\"display:none;\">\n",
              "        \n",
              "  <svg xmlns=\"http://www.w3.org/2000/svg\" height=\"24px\"viewBox=\"0 0 24 24\"\n",
              "       width=\"24px\">\n",
              "    <path d=\"M0 0h24v24H0V0z\" fill=\"none\"/>\n",
              "    <path d=\"M18.56 5.44l.94 2.06.94-2.06 2.06-.94-2.06-.94-.94-2.06-.94 2.06-2.06.94zm-11 1L8.5 8.5l.94-2.06 2.06-.94-2.06-.94L8.5 2.5l-.94 2.06-2.06.94zm10 10l.94 2.06.94-2.06 2.06-.94-2.06-.94-.94-2.06-.94 2.06-2.06.94z\"/><path d=\"M17.41 7.96l-1.37-1.37c-.4-.4-.92-.59-1.43-.59-.52 0-1.04.2-1.43.59L10.3 9.45l-7.72 7.72c-.78.78-.78 2.05 0 2.83L4 21.41c.39.39.9.59 1.41.59.51 0 1.02-.2 1.41-.59l7.78-7.78 2.81-2.81c.8-.78.8-2.07 0-2.86zM5.41 20L4 18.59l7.72-7.72 1.47 1.35L5.41 20z\"/>\n",
              "  </svg>\n",
              "      </button>\n",
              "      \n",
              "  <style>\n",
              "    .colab-df-container {\n",
              "      display:flex;\n",
              "      flex-wrap:wrap;\n",
              "      gap: 12px;\n",
              "    }\n",
              "\n",
              "    .colab-df-convert {\n",
              "      background-color: #E8F0FE;\n",
              "      border: none;\n",
              "      border-radius: 50%;\n",
              "      cursor: pointer;\n",
              "      display: none;\n",
              "      fill: #1967D2;\n",
              "      height: 32px;\n",
              "      padding: 0 0 0 0;\n",
              "      width: 32px;\n",
              "    }\n",
              "\n",
              "    .colab-df-convert:hover {\n",
              "      background-color: #E2EBFA;\n",
              "      box-shadow: 0px 1px 2px rgba(60, 64, 67, 0.3), 0px 1px 3px 1px rgba(60, 64, 67, 0.15);\n",
              "      fill: #174EA6;\n",
              "    }\n",
              "\n",
              "    [theme=dark] .colab-df-convert {\n",
              "      background-color: #3B4455;\n",
              "      fill: #D2E3FC;\n",
              "    }\n",
              "\n",
              "    [theme=dark] .colab-df-convert:hover {\n",
              "      background-color: #434B5C;\n",
              "      box-shadow: 0px 1px 3px 1px rgba(0, 0, 0, 0.15);\n",
              "      filter: drop-shadow(0px 1px 2px rgba(0, 0, 0, 0.3));\n",
              "      fill: #FFFFFF;\n",
              "    }\n",
              "  </style>\n",
              "\n",
              "      <script>\n",
              "        const buttonEl =\n",
              "          document.querySelector('#df-c1fb397c-3708-4d02-840e-7e97e2421f8d button.colab-df-convert');\n",
              "        buttonEl.style.display =\n",
              "          google.colab.kernel.accessAllowed ? 'block' : 'none';\n",
              "\n",
              "        async function convertToInteractive(key) {\n",
              "          const element = document.querySelector('#df-c1fb397c-3708-4d02-840e-7e97e2421f8d');\n",
              "          const dataTable =\n",
              "            await google.colab.kernel.invokeFunction('convertToInteractive',\n",
              "                                                     [key], {});\n",
              "          if (!dataTable) return;\n",
              "\n",
              "          const docLinkHtml = 'Like what you see? Visit the ' +\n",
              "            '<a target=\"_blank\" href=https://colab.research.google.com/notebooks/data_table.ipynb>data table notebook</a>'\n",
              "            + ' to learn more about interactive tables.';\n",
              "          element.innerHTML = '';\n",
              "          dataTable['output_type'] = 'display_data';\n",
              "          await google.colab.output.renderOutput(dataTable, element);\n",
              "          const docLink = document.createElement('div');\n",
              "          docLink.innerHTML = docLinkHtml;\n",
              "          element.appendChild(docLink);\n",
              "        }\n",
              "      </script>\n",
              "    </div>\n",
              "  </div>\n",
              "  "
            ]
          },
          "metadata": {},
          "execution_count": 241
        }
      ]
    },
    {
      "cell_type": "code",
      "source": [
        "# Number of rows and columns\n",
        "df.shape"
      ],
      "metadata": {
        "colab": {
          "base_uri": "https://localhost:8080/"
        },
        "id": "hzpwv0hrR6RG",
        "outputId": "de869f0c-f0b4-43c9-dbe5-6ec58c92bdde"
      },
      "execution_count": 242,
      "outputs": [
        {
          "output_type": "execute_result",
          "data": {
            "text/plain": [
              "(107, 48)"
            ]
          },
          "metadata": {},
          "execution_count": 242
        }
      ]
    },
    {
      "cell_type": "code",
      "source": [
        "# What are the columns\n",
        "df.columns"
      ],
      "metadata": {
        "colab": {
          "base_uri": "https://localhost:8080/"
        },
        "id": "ZPWYVfLTSAOc",
        "outputId": "11e86d89-02a8-4ac3-ac0f-c2c73424e8d4"
      },
      "execution_count": 243,
      "outputs": [
        {
          "output_type": "execute_result",
          "data": {
            "text/plain": [
              "Index(['ID', 'Week2_Quiz1', 'Week3_MP1', 'Week3_PR1', 'Week5_MP2', 'Week5_PR2',\n",
              "       'Week7_MP3', 'Week7_PR3', 'Week4_Quiz2', 'Week6_Quiz3', 'Week8_Total',\n",
              "       'Week1_Stat0', 'Week1_Stat1', 'Week1_Stat2', 'Week1_Stat3',\n",
              "       'Week2_Stat0', 'Week2_Stat1', 'Week2_Stat2', 'Week2_Stat3',\n",
              "       'Week3_Stat0', 'Week3_Stat1', 'Week3_Stat2', 'Week3_Stat3',\n",
              "       'Week4_Stat0', 'Week4_Stat1', 'Week4_Stat2', 'Week4_Stat3',\n",
              "       'Week5_Stat0', 'Week5_Stat1', 'Week5_Stat2', 'Week5_Stat3',\n",
              "       'Week6_Stat0', 'Week6_Stat1', 'Week6_Stat2', 'Week6_Stat3',\n",
              "       'Week7_Stat0', 'Week7_Stat1', 'Week7_Stat2', 'Week7_Stat3',\n",
              "       'Week8_Stat0', 'Week8_Stat1', 'Week8_Stat2', 'Week8_Stat3',\n",
              "       'Week9_Stat0', 'Week9_Stat1', 'Week9_Stat2', 'Week9_Stat3', 'Grade'],\n",
              "      dtype='object')"
            ]
          },
          "metadata": {},
          "execution_count": 243
        }
      ]
    },
    {
      "cell_type": "code",
      "source": [
        "# Drop ID column\n",
        "df = df.drop(['ID'], axis=1)"
      ],
      "metadata": {
        "id": "EXgWXq2-B0iz"
      },
      "execution_count": 244,
      "outputs": []
    },
    {
      "cell_type": "code",
      "source": [
        "# Count of the grades we have\n",
        "df.Grade.value_counts()"
      ],
      "metadata": {
        "colab": {
          "base_uri": "https://localhost:8080/"
        },
        "id": "RqM5rgq6am3Z",
        "outputId": "edb64227-90fe-4748-8c9a-fa89880114bc"
      },
      "execution_count": 245,
      "outputs": [
        {
          "output_type": "execute_result",
          "data": {
            "text/plain": [
              "0    48\n",
              "4    24\n",
              "3    17\n",
              "5    13\n",
              "2     5\n",
              "Name: Grade, dtype: int64"
            ]
          },
          "metadata": {},
          "execution_count": 245
        }
      ]
    },
    {
      "cell_type": "code",
      "source": [
        "# Histogram for class distribution\n",
        "plt.figure(figsize=(10, 5))\n",
        "plt.xlabel('Grades')\n",
        "plt.ylabel('Count values')\n",
        "plt.title('Grade Class Distribution')\n",
        "df.Grade.hist(bins=15)"
      ],
      "metadata": {
        "colab": {
          "base_uri": "https://localhost:8080/",
          "height": 387
        },
        "id": "Eggx92ZhP-xO",
        "outputId": "0b065314-a0e5-41ae-d3e2-455e9822cb3b"
      },
      "execution_count": 246,
      "outputs": [
        {
          "output_type": "execute_result",
          "data": {
            "text/plain": [
              "<matplotlib.axes._subplots.AxesSubplot at 0x7fc897a50c50>"
            ]
          },
          "metadata": {},
          "execution_count": 246
        },
        {
          "output_type": "display_data",
          "data": {
            "text/plain": [
              "<Figure size 720x360 with 1 Axes>"
            ],
            "image/png": "[encoded data removed]"
          },
          "metadata": {}
        }
      ]
    },
    {
      "cell_type": "code",
      "source": [
        "# Check for missing values\n",
        "df.isnull().sum()"
      ],
      "metadata": {
        "colab": {
          "base_uri": "https://localhost:8080/"
        },
        "id": "0NTjGGsTdAY4",
        "outputId": "821fde13-e2d4-427a-cc14-265bec251dcb"
      },
      "execution_count": 247,
      "outputs": [
        {
          "output_type": "execute_result",
          "data": {
            "text/plain": [
              "Week2_Quiz1    0\n",
              "Week3_MP1      0\n",
              "Week3_PR1      0\n",
              "Week5_MP2      0\n",
              "Week5_PR2      0\n",
              "Week7_MP3      0\n",
              "Week7_PR3      0\n",
              "Week4_Quiz2    0\n",
              "Week6_Quiz3    0\n",
              "Week8_Total    0\n",
              "Week1_Stat0    0\n",
              "Week1_Stat1    0\n",
              "Week1_Stat2    0\n",
              "Week1_Stat3    0\n",
              "Week2_Stat0    0\n",
              "Week2_Stat1    0\n",
              "Week2_Stat2    0\n",
              "Week2_Stat3    0\n",
              "Week3_Stat0    0\n",
              "Week3_Stat1    0\n",
              "Week3_Stat2    0\n",
              "Week3_Stat3    0\n",
              "Week4_Stat0    0\n",
              "Week4_Stat1    0\n",
              "Week4_Stat2    0\n",
              "Week4_Stat3    0\n",
              "Week5_Stat0    0\n",
              "Week5_Stat1    0\n",
              "Week5_Stat2    0\n",
              "Week5_Stat3    0\n",
              "Week6_Stat0    0\n",
              "Week6_Stat1    0\n",
              "Week6_Stat2    0\n",
              "Week6_Stat3    0\n",
              "Week7_Stat0    0\n",
              "Week7_Stat1    0\n",
              "Week7_Stat2    0\n",
              "Week7_Stat3    0\n",
              "Week8_Stat0    0\n",
              "Week8_Stat1    0\n",
              "Week8_Stat2    0\n",
              "Week8_Stat3    0\n",
              "Week9_Stat0    0\n",
              "Week9_Stat1    0\n",
              "Week9_Stat2    0\n",
              "Week9_Stat3    0\n",
              "Grade          0\n",
              "dtype: int64"
            ]
          },
          "metadata": {},
          "execution_count": 247
        }
      ]
    },
    {
      "cell_type": "code",
      "source": [
        "# Other columns correlation with the trarget class\n",
        "df.corr().iloc[-1:]"
      ],
      "metadata": {
        "colab": {
          "base_uri": "https://localhost:8080/",
          "height": 174
        },
        "id": "gj6YkfpJeSbu",
        "outputId": "5c425c08-3e4a-439d-e671-c82c5d710f15"
      },
      "execution_count": 248,
      "outputs": [
        {
          "output_type": "execute_result",
          "data": {
            "text/plain": [
              "       Week2_Quiz1  Week3_MP1  Week3_PR1  Week5_MP2  Week5_PR2  Week7_MP3  \\\n",
              "Grade     0.689783   0.901788   0.887352   0.953488   0.907837    0.96813   \n",
              "\n",
              "       Week7_PR3  Week4_Quiz2  Week6_Quiz3  Week8_Total  ...  Week7_Stat3  \\\n",
              "Grade   0.865616      0.81092      0.84992     0.972348  ...     0.439733   \n",
              "\n",
              "       Week8_Stat0  Week8_Stat1  Week8_Stat2  Week8_Stat3  Week9_Stat0  \\\n",
              "Grade     0.450807     0.584425     0.009186     0.234907     0.545532   \n",
              "\n",
              "       Week9_Stat1  Week9_Stat2  Week9_Stat3  Grade  \n",
              "Grade     0.496753     0.147822     0.094227    1.0  \n",
              "\n",
              "[1 rows x 47 columns]"
            ],
            "text/html": [
              "\n",
              "  <div id=\"df-820521a7-a1d2-49b7-955f-e9e9e7c69397\">\n",
              "    <div class=\"colab-df-container\">\n",
              "      <div>\n",
              "<style scoped>\n",
              "    .dataframe tbody tr th:only-of-type {\n",
              "        vertical-align: middle;\n",
              "    }\n",
              "\n",
              "    .dataframe tbody tr th {\n",
              "        vertical-align: top;\n",
              "    }\n",
              "\n",
              "    .dataframe thead th {\n",
              "        text-align: right;\n",
              "    }\n",
              "</style>\n",
              "<table border=\"1\" class=\"dataframe\">\n",
              "  <thead>\n",
              "    <tr style=\"text-align: right;\">\n",
              "      <th></th>\n",
              "      <th>Week2_Quiz1</th>\n",
              "      <th>Week3_MP1</th>\n",
              "      <th>Week3_PR1</th>\n",
              "      <th>Week5_MP2</th>\n",
              "      <th>Week5_PR2</th>\n",
              "      <th>Week7_MP3</th>\n",
              "      <th>Week7_PR3</th>\n",
              "      <th>Week4_Quiz2</th>\n",
              "      <th>Week6_Quiz3</th>\n",
              "      <th>Week8_Total</th>\n",
              "      <th>...</th>\n",
              "      <th>Week7_Stat3</th>\n",
              "      <th>Week8_Stat0</th>\n",
              "      <th>Week8_Stat1</th>\n",
              "      <th>Week8_Stat2</th>\n",
              "      <th>Week8_Stat3</th>\n",
              "      <th>Week9_Stat0</th>\n",
              "      <th>Week9_Stat1</th>\n",
              "      <th>Week9_Stat2</th>\n",
              "      <th>Week9_Stat3</th>\n",
              "      <th>Grade</th>\n",
              "    </tr>\n",
              "  </thead>\n",
              "  <tbody>\n",
              "    <tr>\n",
              "      <th>Grade</th>\n",
              "      <td>0.689783</td>\n",
              "      <td>0.901788</td>\n",
              "      <td>0.887352</td>\n",
              "      <td>0.953488</td>\n",
              "      <td>0.907837</td>\n",
              "      <td>0.96813</td>\n",
              "      <td>0.865616</td>\n",
              "      <td>0.81092</td>\n",
              "      <td>0.84992</td>\n",
              "      <td>0.972348</td>\n",
              "      <td>...</td>\n",
              "      <td>0.439733</td>\n",
              "      <td>0.450807</td>\n",
              "      <td>0.584425</td>\n",
              "      <td>0.009186</td>\n",
              "      <td>0.234907</td>\n",
              "      <td>0.545532</td>\n",
              "      <td>0.496753</td>\n",
              "      <td>0.147822</td>\n",
              "      <td>0.094227</td>\n",
              "      <td>1.0</td>\n",
              "    </tr>\n",
              "  </tbody>\n",
              "</table>\n",
              "<p>1 rows × 47 columns</p>\n",
              "</div>\n",
              "      <button class=\"colab-df-convert\" onclick=\"convertToInteractive('df-820521a7-a1d2-49b7-955f-e9e9e7c69397')\"\n",
              "              title=\"Convert this dataframe to an interactive table.\"\n",
              "              style=\"display:none;\">\n",
              "        \n",
              "  <svg xmlns=\"http://www.w3.org/2000/svg\" height=\"24px\"viewBox=\"0 0 24 24\"\n",
              "       width=\"24px\">\n",
              "    <path d=\"M0 0h24v24H0V0z\" fill=\"none\"/>\n",
              "    <path d=\"M18.56 5.44l.94 2.06.94-2.06 2.06-.94-2.06-.94-.94-2.06-.94 2.06-2.06.94zm-11 1L8.5 8.5l.94-2.06 2.06-.94-2.06-.94L8.5 2.5l-.94 2.06-2.06.94zm10 10l.94 2.06.94-2.06 2.06-.94-2.06-.94-.94-2.06-.94 2.06-2.06.94z\"/><path d=\"M17.41 7.96l-1.37-1.37c-.4-.4-.92-.59-1.43-.59-.52 0-1.04.2-1.43.59L10.3 9.45l-7.72 7.72c-.78.78-.78 2.05 0 2.83L4 21.41c.39.39.9.59 1.41.59.51 0 1.02-.2 1.41-.59l7.78-7.78 2.81-2.81c.8-.78.8-2.07 0-2.86zM5.41 20L4 18.59l7.72-7.72 1.47 1.35L5.41 20z\"/>\n",
              "  </svg>\n",
              "      </button>\n",
              "      \n",
              "  <style>\n",
              "    .colab-df-container {\n",
              "      display:flex;\n",
              "      flex-wrap:wrap;\n",
              "      gap: 12px;\n",
              "    }\n",
              "\n",
              "    .colab-df-convert {\n",
              "      background-color: #E8F0FE;\n",
              "      border: none;\n",
              "      border-radius: 50%;\n",
              "      cursor: pointer;\n",
              "      display: none;\n",
              "      fill: #1967D2;\n",
              "      height: 32px;\n",
              "      padding: 0 0 0 0;\n",
              "      width: 32px;\n",
              "    }\n",
              "\n",
              "    .colab-df-convert:hover {\n",
              "      background-color: #E2EBFA;\n",
              "      box-shadow: 0px 1px 2px rgba(60, 64, 67, 0.3), 0px 1px 3px 1px rgba(60, 64, 67, 0.15);\n",
              "      fill: #174EA6;\n",
              "    }\n",
              "\n",
              "    [theme=dark] .colab-df-convert {\n",
              "      background-color: #3B4455;\n",
              "      fill: #D2E3FC;\n",
              "    }\n",
              "\n",
              "    [theme=dark] .colab-df-convert:hover {\n",
              "      background-color: #434B5C;\n",
              "      box-shadow: 0px 1px 3px 1px rgba(0, 0, 0, 0.15);\n",
              "      filter: drop-shadow(0px 1px 2px rgba(0, 0, 0, 0.3));\n",
              "      fill: #FFFFFF;\n",
              "    }\n",
              "  </style>\n",
              "\n",
              "      <script>\n",
              "        const buttonEl =\n",
              "          document.querySelector('#df-820521a7-a1d2-49b7-955f-e9e9e7c69397 button.colab-df-convert');\n",
              "        buttonEl.style.display =\n",
              "          google.colab.kernel.accessAllowed ? 'block' : 'none';\n",
              "\n",
              "        async function convertToInteractive(key) {\n",
              "          const element = document.querySelector('#df-820521a7-a1d2-49b7-955f-e9e9e7c69397');\n",
              "          const dataTable =\n",
              "            await google.colab.kernel.invokeFunction('convertToInteractive',\n",
              "                                                     [key], {});\n",
              "          if (!dataTable) return;\n",
              "\n",
              "          const docLinkHtml = 'Like what you see? Visit the ' +\n",
              "            '<a target=\"_blank\" href=https://colab.research.google.com/notebooks/data_table.ipynb>data table notebook</a>'\n",
              "            + ' to learn more about interactive tables.';\n",
              "          element.innerHTML = '';\n",
              "          dataTable['output_type'] = 'display_data';\n",
              "          await google.colab.output.renderOutput(dataTable, element);\n",
              "          const docLink = document.createElement('div');\n",
              "          docLink.innerHTML = docLinkHtml;\n",
              "          element.appendChild(docLink);\n",
              "        }\n",
              "      </script>\n",
              "    </div>\n",
              "  </div>\n",
              "  "
            ]
          },
          "metadata": {},
          "execution_count": 248
        }
      ]
    },
    {
      "cell_type": "code",
      "source": [
        "# Extract only features which have 0.5 and above correlation point to the grade class\n",
        "columns = np.full((df.corr().shape[0],), False, dtype=bool)\n",
        "corr = df.corr()\n",
        "for j in range(0, corr.shape[0]):\n",
        "  if corr.iloc[-1, j] > 0.5:\n",
        "    if ~columns[j]:\n",
        "      columns[j] = True\n",
        "rf_df = df[df.columns[columns]]"
      ],
      "metadata": {
        "id": "Yj1A2Pze3Epn"
      },
      "execution_count": 249,
      "outputs": []
    },
    {
      "cell_type": "code",
      "source": [
        "# Features\n",
        "rf_features = rf_df.columns[:-1]\n",
        "rf_features"
      ],
      "metadata": {
        "colab": {
          "base_uri": "https://localhost:8080/"
        },
        "id": "JJzseENYilU_",
        "outputId": "0e870e8e-c91a-4493-a0aa-46efe7044c30"
      },
      "execution_count": 250,
      "outputs": [
        {
          "output_type": "execute_result",
          "data": {
            "text/plain": [
              "Index(['Week2_Quiz1', 'Week3_MP1', 'Week3_PR1', 'Week5_MP2', 'Week5_PR2',\n",
              "       'Week7_MP3', 'Week7_PR3', 'Week4_Quiz2', 'Week6_Quiz3', 'Week8_Total',\n",
              "       'Week3_Stat0', 'Week3_Stat1', 'Week4_Stat0', 'Week4_Stat1',\n",
              "       'Week5_Stat0', 'Week6_Stat0', 'Week6_Stat1', 'Week8_Stat1',\n",
              "       'Week9_Stat0'],\n",
              "      dtype='object')"
            ]
          },
          "metadata": {},
          "execution_count": 250
        }
      ]
    },
    {
      "cell_type": "markdown",
      "source": [
        "Step 2 - Training & Test Dataset"
      ],
      "metadata": {
        "id": "RL_L-CcRJiI7"
      }
    },
    {
      "cell_type": "code",
      "source": [
        "def split(X, y):\n",
        "  X_train, X_test, y_train, y_test = train_test_split(X, y, test_size=0.2, random_state=0, stratify=y)\n",
        "  return X_train, X_test, y_train, y_test"
      ],
      "metadata": {
        "id": "fNMcI-Ri8_5n"
      },
      "execution_count": 251,
      "outputs": []
    },
    {
      "cell_type": "code",
      "source": [
        "# 80% for training data and 20% for test data\n",
        "X = rf_df[rf_features] # Features\n",
        "y = rf_df['Grade'] # Target Class\n",
        "\n",
        "rf_X_train, rf_X_test, rf_y_train, rf_y_test = split(X, y)\n",
        "\n",
        "print(f'{len(rf_X_train)} Training Dataset and {len(rf_X_test)} Testing Dataset')"
      ],
      "metadata": {
        "colab": {
          "base_uri": "https://localhost:8080/"
        },
        "id": "a1Sg4ue7Bh_O",
        "outputId": "79e83aa8-18bc-4754-ee6b-692ad5146555"
      },
      "execution_count": 252,
      "outputs": [
        {
          "output_type": "stream",
          "name": "stdout",
          "text": [
            "85 Training Dataset and 22 Testing Dataset\n"
          ]
        }
      ]
    },
    {
      "cell_type": "markdown",
      "source": [
        "Step 3 - Train the Model"
      ],
      "metadata": {
        "id": "x3JZcDBFkG0u"
      }
    },
    {
      "cell_type": "code",
      "source": [
        "# Instanitiate a random forest classifier object\n",
        "# The training data will be processed only on one CPU core, because n_jobs is not specified. Since the size of the data is not big we don't need parallelism here\n",
        "random_forest_clf = RandomForestClassifier(random_state=0)\n",
        "\n",
        "# Train the model using the features columns and the target column(Grade)\n",
        "random_forest_clf.fit(rf_X_train, rf_y_train)"
      ],
      "metadata": {
        "colab": {
          "base_uri": "https://localhost:8080/"
        },
        "id": "T2C4fH-UJbts",
        "outputId": "dad1ad99-bb7a-472d-f628-85624141f02d"
      },
      "execution_count": 253,
      "outputs": [
        {
          "output_type": "execute_result",
          "data": {
            "text/plain": [
              "RandomForestClassifier(random_state=0)"
            ]
          },
          "metadata": {},
          "execution_count": 253
        }
      ]
    },
    {
      "cell_type": "code",
      "source": [
        "# Use the trained model to predict on a new dataset(Test)\n",
        "random_forest_pred = random_forest_clf.predict(rf_X_test)"
      ],
      "metadata": {
        "id": "kQ4vb7flPTYu"
      },
      "execution_count": 254,
      "outputs": []
    },
    {
      "cell_type": "markdown",
      "source": [
        "Step 4 - Performance Evaluation"
      ],
      "metadata": {
        "id": "1-FYeE04lXm_"
      }
    },
    {
      "cell_type": "code",
      "source": [
        "# Accuracy of the model\n",
        "print(f'Accuracy: {accuracy_score(rf_y_test, random_forest_pred)*100:.3f}%')"
      ],
      "metadata": {
        "colab": {
          "base_uri": "https://localhost:8080/"
        },
        "id": "IWX7jTuaaoVJ",
        "outputId": "cc390435-ab3b-4ac0-fd71-b8b3a9fd6f0a"
      },
      "execution_count": 255,
      "outputs": [
        {
          "output_type": "stream",
          "name": "stdout",
          "text": [
            "Accuracy: 95.455%\n"
          ]
        }
      ]
    },
    {
      "cell_type": "code",
      "source": [
        "# F score for each class(0, 2, 3, 4, 5)\n",
        "print(f1_score(rf_y_test, random_forest_pred, average=None))"
      ],
      "metadata": {
        "colab": {
          "base_uri": "https://localhost:8080/"
        },
        "id": "hgbfYKC3Rvvp",
        "outputId": "fac35b17-95d9-4574-8dbc-aaaf24c2ee1d"
      },
      "execution_count": 256,
      "outputs": [
        {
          "output_type": "stream",
          "name": "stdout",
          "text": [
            "[1.         0.         0.85714286 1.         1.        ]\n"
          ]
        }
      ]
    },
    {
      "cell_type": "code",
      "source": [
        "# Classification Report for random forest model\n",
        "print(classification_report(rf_y_test, random_forest_pred, labels=(np.unique(random_forest_pred))))"
      ],
      "metadata": {
        "colab": {
          "base_uri": "https://localhost:8080/"
        },
        "id": "lRr0m04p5jRT",
        "outputId": "0f3cedc1-5063-4b81-dd13-e759c7a32957"
      },
      "execution_count": 257,
      "outputs": [
        {
          "output_type": "stream",
          "name": "stdout",
          "text": [
            "              precision    recall  f1-score   support\n",
            "\n",
            "           0       1.00      1.00      1.00        10\n",
            "           3       0.75      1.00      0.86         3\n",
            "           4       1.00      1.00      1.00         5\n",
            "           5       1.00      1.00      1.00         3\n",
            "\n",
            "   micro avg       0.95      1.00      0.98        21\n",
            "   macro avg       0.94      1.00      0.96        21\n",
            "weighted avg       0.96      1.00      0.98        21\n",
            "\n"
          ]
        }
      ]
    },
    {
      "cell_type": "code",
      "source": [
        "# Create confusion matrix\n",
        "matrix = pd.crosstab(rf_y_test, random_forest_pred)\n",
        "plt.figure(figsize=(16,7))\n",
        "sns.set(font_scale=1.4)\n",
        "sns.heatmap(matrix, annot=True, annot_kws={'size':10},\n",
        "            cmap=plt.cm.Blues, linewidths=0.2)\n",
        "class_names = [0, 2, 3, 4, 5]\n",
        "plt.xlabel('Predicted Grades')\n",
        "plt.ylabel('True Grades')\n",
        "plt.title('Confusion Matrix for Grade Prediction Random Forest Model')\n",
        "plt.show()"
      ],
      "metadata": {
        "colab": {
          "base_uri": "https://localhost:8080/",
          "height": 478
        },
        "id": "jlg94ktLRiX7",
        "outputId": "2262aa67-6398-4d9c-9768-59766ffa61a2"
      },
      "execution_count": 258,
      "outputs": [
        {
          "output_type": "display_data",
          "data": {
            "text/plain": [
              "<Figure size 1152x504 with 2 Axes>"
            ],
            "image/png": "[encoded data removed]"
          },
          "metadata": {}
        }
      ]
    },
    {
      "cell_type": "code",
      "source": [
        "# Cross validation scores\n",
        "rf_scores = cross_val_score(random_forest_clf, X, y)\n",
        "rf_scores"
      ],
      "metadata": {
        "colab": {
          "base_uri": "https://localhost:8080/"
        },
        "id": "hLsCBUnOn-C-",
        "outputId": "857b9c96-50f6-47dc-9fbd-4292ad29dca2"
      },
      "execution_count": 261,
      "outputs": [
        {
          "output_type": "execute_result",
          "data": {
            "text/plain": [
              "array([0.95454545, 0.90909091, 0.95238095, 0.9047619 , 0.9047619 ])"
            ]
          },
          "metadata": {},
          "execution_count": 261
        }
      ]
    },
    {
      "cell_type": "code",
      "source": [
        "# cross validation average score for random forest model\n",
        "rf_scores.mean()"
      ],
      "metadata": {
        "colab": {
          "base_uri": "https://localhost:8080/"
        },
        "id": "SbKTdgYXoM2q",
        "outputId": "80280bd5-3cca-4a73-bde5-a400588cf403"
      },
      "execution_count": 262,
      "outputs": [
        {
          "output_type": "execute_result",
          "data": {
            "text/plain": [
              "0.925108225108225"
            ]
          },
          "metadata": {},
          "execution_count": 262
        }
      ]
    },
    {
      "cell_type": "markdown",
      "source": [
        "Step 5 - Important features"
      ],
      "metadata": {
        "id": "G8aIz-wZlofO"
      }
    },
    {
      "cell_type": "code",
      "source": [
        "# The three important features\n",
        "three_important_features = sorted(list(zip(rf_X_train, random_forest_clf.feature_importances_)), key=lambda tup: tup[1], reverse=True)[:3]\n",
        "three_important_features"
      ],
      "metadata": {
        "colab": {
          "base_uri": "https://localhost:8080/"
        },
        "id": "CKN1moLST6jb",
        "outputId": "cd701a01-f8a7-4900-f680-fd891cd5d990"
      },
      "execution_count": 263,
      "outputs": [
        {
          "output_type": "execute_result",
          "data": {
            "text/plain": [
              "[('Week8_Total', 0.241951811440013),\n",
              " ('Week7_MP3', 0.13666694375187838),\n",
              " ('Week5_MP2', 0.13464600006629746)]"
            ]
          },
          "metadata": {},
          "execution_count": 263
        }
      ]
    },
    {
      "cell_type": "markdown",
      "source": [
        "Using SVC Algorithm"
      ],
      "metadata": {
        "id": "xpx0GgBdoTdz"
      }
    },
    {
      "cell_type": "code",
      "source": [
        "# Using all the columns except Week8_Total column\n",
        "svc_features = df.loc[:,~df.columns.isin(['Week8_Total', 'Grade'])].columns"
      ],
      "metadata": {
        "id": "jctFLIVt-hG0"
      },
      "execution_count": 264,
      "outputs": []
    },
    {
      "cell_type": "code",
      "source": [
        "# Split the data into testing and training for svc model\n",
        "svc_X = df[svc_features] # Features\n",
        "svc_y = df['Grade'] # Target Class\n",
        "\n",
        "svc_X_train, svc_X_test, svc_y_train, svc_y_test = split(svc_X, svc_y)\n",
        "\n",
        "print(f'{len(svc_X_train)} Training Dataset and {len(svc_X_test)} Testing Dataset')"
      ],
      "metadata": {
        "colab": {
          "base_uri": "https://localhost:8080/"
        },
        "id": "pzDIJUzU-wjE",
        "outputId": "a4b845d4-8ae8-4929-a5c0-a50e867071ff"
      },
      "execution_count": 265,
      "outputs": [
        {
          "output_type": "stream",
          "name": "stdout",
          "text": [
            "85 Training Dataset and 22 Testing Dataset\n"
          ]
        }
      ]
    },
    {
      "cell_type": "code",
      "source": [
        "svc=SVC(kernel='linear')\n",
        "\n",
        "svc.fit(svc_X_train,svc_y_train)"
      ],
      "metadata": {
        "colab": {
          "base_uri": "https://localhost:8080/"
        },
        "id": "pgEco-I-TccB",
        "outputId": "50afde23-af3b-464f-d14a-7fa78aa6c02c"
      },
      "execution_count": 266,
      "outputs": [
        {
          "output_type": "execute_result",
          "data": {
            "text/plain": [
              "SVC(kernel='linear')"
            ]
          },
          "metadata": {},
          "execution_count": 266
        }
      ]
    },
    {
      "cell_type": "code",
      "source": [
        "# Use the prediction model on the testing data\n",
        "y_pred=svc.predict(svc_X_test)"
      ],
      "metadata": {
        "id": "EIX0XKA0TisH"
      },
      "execution_count": 267,
      "outputs": []
    },
    {
      "cell_type": "code",
      "source": [
        "print(f'Accuracy: {accuracy_score(svc_y_test, y_pred)*100:.3f}%')"
      ],
      "metadata": {
        "colab": {
          "base_uri": "https://localhost:8080/"
        },
        "id": "MChdO5raTlT1",
        "outputId": "2bd2f151-8df8-43de-d5a0-7ac2387538ef"
      },
      "execution_count": 268,
      "outputs": [
        {
          "output_type": "stream",
          "name": "stdout",
          "text": [
            "Accuracy: 95.455%\n"
          ]
        }
      ]
    },
    {
      "cell_type": "code",
      "source": [
        "# F score for each class(0, 2, 3, 4, 5)\n",
        "print(f1_score(svc_y_test, y_pred, average=None))"
      ],
      "metadata": {
        "colab": {
          "base_uri": "https://localhost:8080/"
        },
        "id": "SfHym4L9oklR",
        "outputId": "0f37ddb5-5082-48ea-8734-f4f2871f2543"
      },
      "execution_count": 269,
      "outputs": [
        {
          "output_type": "stream",
          "name": "stdout",
          "text": [
            "[1.         1.         1.         0.90909091 0.8       ]\n"
          ]
        }
      ]
    },
    {
      "cell_type": "code",
      "source": [
        "# Classification report for svc model\n",
        "print(classification_report(svc_y_test, y_pred, labels=(np.unique(y_pred))))"
      ],
      "metadata": {
        "colab": {
          "base_uri": "https://localhost:8080/"
        },
        "id": "Zs7s-3dVouzY",
        "outputId": "8917cb60-9deb-4816-c886-88bc04a7bead"
      },
      "execution_count": 270,
      "outputs": [
        {
          "output_type": "stream",
          "name": "stdout",
          "text": [
            "              precision    recall  f1-score   support\n",
            "\n",
            "           0       1.00      1.00      1.00        10\n",
            "           2       1.00      1.00      1.00         1\n",
            "           3       1.00      1.00      1.00         3\n",
            "           4       0.83      1.00      0.91         5\n",
            "           5       1.00      0.67      0.80         3\n",
            "\n",
            "    accuracy                           0.95        22\n",
            "   macro avg       0.97      0.93      0.94        22\n",
            "weighted avg       0.96      0.95      0.95        22\n",
            "\n"
          ]
        }
      ]
    },
    {
      "cell_type": "code",
      "source": [
        "# Create confusion matrix for svc model\n",
        "matrix = pd.crosstab(svc_y_test, y_pred)\n",
        "plt.figure(figsize=(16,7))\n",
        "sns.set(font_scale=1.4)\n",
        "sns.heatmap(matrix, annot=True, annot_kws={'size':10},\n",
        "            cmap=plt.cm.Blues, linewidths=0.2)\n",
        "class_names = [0, 2, 3, 4, 5]\n",
        "plt.xlabel('Predicted Grades')\n",
        "plt.ylabel('True Grades')\n",
        "plt.title('Confusion Matrix for Grade Prediction SVC Model')\n",
        "plt.show()"
      ],
      "metadata": {
        "colab": {
          "base_uri": "https://localhost:8080/",
          "height": 478
        },
        "id": "bXg29MlVfq8Z",
        "outputId": "9cc9230e-0985-4538-8173-0f6c752056d8"
      },
      "execution_count": 271,
      "outputs": [
        {
          "output_type": "display_data",
          "data": {
            "text/plain": [
              "<Figure size 1152x504 with 2 Axes>"
            ],
            "image/png": "[encoded data removed]"
          },
          "metadata": {}
        }
      ]
    },
    {
      "cell_type": "code",
      "source": [
        "# Cross validation scores for svc\n",
        "scores = cross_val_score(svc, svc_X, svc_y)\n",
        "\n",
        "scores"
      ],
      "metadata": {
        "colab": {
          "base_uri": "https://localhost:8080/"
        },
        "id": "SYjWojYlaWqH",
        "outputId": "6aaf5cf4-eeff-4ca2-bccf-e07b5e9f393e"
      },
      "execution_count": 272,
      "outputs": [
        {
          "output_type": "execute_result",
          "data": {
            "text/plain": [
              "array([0.72727273, 0.63636364, 0.71428571, 0.71428571, 0.9047619 ])"
            ]
          },
          "metadata": {},
          "execution_count": 272
        }
      ]
    },
    {
      "cell_type": "code",
      "source": [
        "# Cross validation mean score for svc\n",
        "scores.mean()"
      ],
      "metadata": {
        "colab": {
          "base_uri": "https://localhost:8080/"
        },
        "id": "2_TzuVQsfilF",
        "outputId": "6fa59e3c-9b03-40ba-e152-93ddc51b8c3f"
      },
      "execution_count": 273,
      "outputs": [
        {
          "output_type": "execute_result",
          "data": {
            "text/plain": [
              "0.7393939393939395"
            ]
          },
          "metadata": {},
          "execution_count": 273
        }
      ]
    },
    {
      "cell_type": "code",
      "source": [],
      "metadata": {
        "id": "rGqwFeXPCPHP"
      },
      "execution_count": null,
      "outputs": []
    }
  ]
}